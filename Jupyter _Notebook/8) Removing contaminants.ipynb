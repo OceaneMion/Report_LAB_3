{
 "cells": [
  {
   "cell_type": "markdown",
   "metadata": {
    "id": "3tk0wn5tOV-U"
   },
   "source": [
    "After having analyse the quality of our assemblies (through BUSCO and Quast), we choosed to continue our analysis on the assemblies constructed from Dorado modified basecalling, as in the future we want to sequence more than 250 isolates. Dorado was proven to be quicker than Guppy, and provide similar or better basecalling accuracy as well as similar assembly quality."
   ]
  },
  {
   "cell_type": "markdown",
   "metadata": {
    "id": "WRhsSyAkM76-"
   },
   "source": [
    "# What is Blobtools ?\n",
    "Blobtools is a software that allow identification of contaminant inside an assembly.\n",
    "\n",
    "It take as input :\n",
    "- Assembly (.fasta)\n",
    "- Sorted reads map to their reference assembly (.bam)\n",
    "- A blast file (.out)\n",
    "\n",
    "We have the assemblies (see HyPo), and the map reads (see BWA-MEM2), therefore we need to generate only the blast file"
   ]
  },
  {
   "cell_type": "markdown",
   "metadata": {
    "id": "tRVRWiWxM1wM"
   },
   "source": [
    "# Blobtools"
   ]
  },
  {
   "cell_type": "code",
   "execution_count": null,
   "metadata": {
    "id": "nbgPCFjmk6RJ"
   },
   "outputs": [],
   "source": [
    "## Show all available databases\n",
    "$ update_blastdb.pl --showall\n",
    "\n",
    "## Download the nt (nucleotide) database\n",
    "$ update_blastdb.pl --decompress nt\n",
    "\n",
    "## Blastn the assembly against the nt database, and create blobtool plots\n",
    "\n",
    "for dir in /bigvol/omion/05-Polishing/With_HyPo/Gd*; do\n",
    "    # Extract the base name from the directory\n",
    "    base_name=$(basename \"$dir\")\n",
    "\n",
    "    # Define input and output file paths\n",
    "    fasta_file=\"$dir/hypo_${base_name}_Dorado_modbasecalling.fasta\"\n",
    "    bam_file=\"/bigvol/omion/05-Polishing/BWA-MEM2/Mapping/Dorado/modbasecalling/sorted_bwa_mapping_${base_name}_Dorado_modbasecalling.bam\"\n",
    "    out_file=\"${dir}.out\"\n",
    "    blobtools_output=\"${base_name}_create\"\n",
    "\n",
    "    # Run blastn\n",
    "    blastn -query \"$fasta_file\" \\\n",
    "           -outfmt \"6 qseqid staxids bitscore std\" \\\n",
    "           -db /bigvol/omion/Software/database_blast/nt \\\n",
    "           -max_target_seqs 1 \\\n",
    "           -max_hsps 1 \\\n",
    "           -evalue 1e-25 \\\n",
    "           -out \"$out_file\" \\\n",
    "           -num_threads 40\n",
    "\n",
    "    # Create blobtools database\n",
    "    /bigvol/omion/Software/blobtools-blobtools_v1.1.1/blobtools create -i \"$fasta_file\" \\\n",
    "                      -b \"$bam_file\" \\\n",
    "                      -t \"$out_file\" \\\n",
    "                      -o \"$blobtools_output\"\n",
    "\n",
    "    # View blobtools database\n",
    "    /bigvol/omion/Software/blobtools-blobtools_v1.1.1/blobtools view -i \"${blobtools_output}.blobDB.json\"\n",
    "\n",
    "    # Plot blobtools database\n",
    "    /bigvol/omion/Software/blobtools-blobtools_v1.1.1/blobtools plot -i \"${blobtools_output}.blobDB.json\"\n",
    "done\n"
   ]
  },
  {
   "cell_type": "markdown",
   "metadata": {
    "id": "UwpATh-x7cZY"
   },
   "source": [
    "Contigs smaller than 50000 bp, and corresponding to mitochondrial contigs, and contaminant (identity > 85 %) were removed from further analysis."
   ]
  },
  {
   "cell_type": "markdown",
   "metadata": {
    "id": "4FPBucZ9v_bJ"
   },
   "source": [
    "# Contigs length of final assemblies"
   ]
  },
  {
   "cell_type": "markdown",
   "metadata": {},
   "source": [
    "Final assemblies were contaminant and mitochondrial contigs were removed can be found at this path: /bigvol/omion/07-Filtered_Assemblies   \n",
    "Contigs lenght were extracted using the following code: \n"
   ]
  },
  {
   "cell_type": "code",
   "execution_count": null,
   "metadata": {
    "id": "xekI5QO6wBx5"
   },
   "outputs": [],
   "source": [
    "#!/bin/bash\n",
    "\n",
    "# Loop over each file matching the pattern filtered_hypo*\n",
    "for file in /bigvol/omion/07-Filtered_Assemblies/filtered_hypo*; do\n",
    "  # Extract the isolate name from the files\n",
    "  prefix=$(echo \"$file\" | sed -E 's/filtered_hypo_(Gd[^_]+)_.*/\\1/')\n",
    "\n",
    "  # Awk to extract contig length and store in a .tsv file\n",
    "  awk -v prefix=\"$prefix\" '\n",
    "  /^>/ {\n",
    "    if (seq) {\n",
    "      print prefix \"\\t\" substr(name, 2) \"\\t\" length(seq);\n",
    "    }\n",
    "    name = $0;\n",
    "    seq = \"\";\n",
    "  }\n",
    "  !/^>/ {\n",
    "    seq = seq $0;\n",
    "  }\n",
    "  END {\n",
    "    if (seq) {\n",
    "      print prefix \"\\t\" substr(name, 2) \"\\t\" length(seq);\n",
    "    }\n",
    "  }' \"$file\" >> contig_lengths.tsv\n",
    "done\n"
   ]
  }
 ],
 "metadata": {
  "colab": {
   "authorship_tag": "ABX9TyPAA/D6eM88xRb8h3V6n9ew",
   "provenance": []
  },
  "kernelspec": {
   "display_name": "Python 3 (ipykernel)",
   "language": "python",
   "name": "python3"
  },
  "language_info": {
   "codemirror_mode": {
    "name": "ipython",
    "version": 3
   },
   "file_extension": ".py",
   "mimetype": "text/x-python",
   "name": "python",
   "nbconvert_exporter": "python",
   "pygments_lexer": "ipython3",
   "version": "3.10.12"
  }
 },
 "nbformat": 4,
 "nbformat_minor": 4
}
