{
 "cells": [
  {
   "cell_type": "markdown",
   "metadata": {
    "id": "_8gkCBKP6Q4J"
   },
   "source": [
    "# What is the use of Polishing ?"
   ]
  },
  {
   "cell_type": "markdown",
   "metadata": {
    "id": "Wwdn419R6Y08"
   },
   "source": [
    "* Polishing used short illumina reads that were mapped on their respective assemblies (constructed from long reads), to improve overall genome assemblies (contiguity, completness...).\n",
    "\n",
    "* Before doing polishing we need to index and map our assemblies to its respective long reads assemblies obtain from Flye. We used bwa-mem2 for this purpose."
   ]
  },
  {
   "cell_type": "markdown",
   "metadata": {
    "id": "3mKcBxG_PiDX"
   },
   "source": [
    "# BWA"
   ]
  },
  {
   "cell_type": "markdown",
   "metadata": {
    "id": "fsZLVxwBK1TJ"
   },
   "source": [
    "## Indexing"
   ]
  },
  {
   "cell_type": "code",
   "execution_count": null,
   "metadata": {
    "id": "PBNL7t62BHuB"
   },
   "outputs": [],
   "source": [
    "#!/bin/bash \n",
    "\n",
    "# Create folders to stock assemblies, and their index \n",
    "mkdir -p /bigvol/omion/05-Polishing/BWA-MEM2/Indexing/{Dorado,Guppy}/{modbasecalling,basecalling}\n",
    "\n",
    "for i in /bigvol/omion/04-Flye/*/*/*/assembly.fasta; do\n",
    "    if [ -f \"$i\" ]; then\n",
    "        directory=$(dirname \"$i\")\n",
    "        gd_part=$(basename \"$directory\")\n",
    "\n",
    "        # Extract the basecalling method (Dorado or Guppy) and type (modbasecalling or basecalling)\n",
    "        basecalling_method=$(echo \"$directory\" | awk -F'/' '{print $(NF-2)}')\n",
    "        basecalling_type=$(echo \"$directory\" | awk -F'/' '{print $(NF-1)}')\n",
    "\n",
    "        # Create the output directory path\n",
    "        output_dir=\"/bigvol/omion/05-Polishing/BWA-MEM2/Indexing/${basecalling_method}/${basecalling_type}/${gd_part}\"\n",
    "\n",
    "        mkdir -p \"${output_dir}\"\n",
    "\n",
    "        # Copy the assembly.fasta to the output directory\n",
    "        cp \"$i\" \"${output_dir}/assembly.fasta\"\n",
    "\n",
    "        # Change to the output directory\n",
    "        cd \"${output_dir}\"\n",
    "\n",
    "        # Run BWA-MEM2 indexing\n",
    "        bwa-mem2 index assembly.fasta\n",
    "\n",
    "        # Change back to the original directory\n",
    "        cd - > /dev/null\n",
    "    fi\n",
    "done\n"
   ]
  },
  {
   "cell_type": "markdown",
   "metadata": {
    "id": "ZEKZxB5mK4bb"
   },
   "source": [
    "## Mapping"
   ]
  },
  {
   "cell_type": "code",
   "execution_count": null,
   "metadata": {
    "id": "5PXEt8EmEuZR"
   },
   "outputs": [],
   "source": [
    "#!/bin/bash\n",
    "\n",
    "# Create folders to stock mapping files\n",
    "mkdir -p /bigvol/omion/05-Polishing/BWA-MEM2/Mapping/{Dorado,Guppy}/{modbasecalling,basecalling}\n",
    "\n",
    "for i in /bigvol/omion/05-Polishing/BWA-MEM2/Indexing/*/*/Gd*/assembly.fasta; do\n",
    "    if [ -f \"$i\" ]; then\n",
    "        directory=$(dirname \"$i\")\n",
    "        gd_part=$(basename \"$directory\")\n",
    "\n",
    "        # Extract the basecalling method (Dorado or Guppy) and type (modbasecalling or basecalling)\n",
    "        basecalling_method=$(echo \"$directory\" | awk -F'/' '{print $(NF-2)}')\n",
    "        basecalling_type=$(echo \"$directory\" | awk -F'/' '{print $(NF-1)}')\n",
    "\n",
    "        # Create the output directory path\n",
    "        output_dir=\"/bigvol/omion/05-Polishing/BWA-MEM2/Mapping/${basecalling_method}/${basecalling_type}/${gd_part}\"\n",
    "\n",
    "        mkdir -p \"${output_dir}\"\n",
    "        gd_number=$(echo \"$gd_part\" | grep -oP 'Gd\\K[0-9]+')\n",
    "\n",
    "        echo \"Processing $gd_part (number: $gd_number)\"\n",
    "\n",
    "        # Find the corresponding folders containing the Illumina reads\n",
    "        illumina_folder=$(find /bigvol/shared_FunAdapt/00-illumina_Nanopore/illumina_shortreads -type d -name \"Gd_*${gd_number}*\" | head -n 1)\n",
    "\n",
    "        if [ -z \"$illumina_folder\" ]; then\n",
    "            echo \"No matching Illumina folder found for $gd_part\"\n",
    "        else\n",
    "            echo \"Found Illumina folder: $illumina_folder\"\n",
    "\n",
    "            # List contents in the Illumina folders\n",
    "            echo \"Contents of $illumina_folder:\"\n",
    "            ls -l \"$illumina_folder\"\n",
    "\n",
    "            # Find the Illumina files \n",
    "            illumina_file1=$(find \"$illumina_folder\" -type f \\( -name \"*_R1.fastq.gz\" -o -name \"*_1.fq.gz\" -o -name \"*_1.fastq\" -o -name \"*_1.fastq.gz\" \\) | head -n 1)\n",
    "            illumina_file2=$(find \"$illumina_folder\" -type f \\( -name \"*_R2.fastq.gz\" -o -name \"*_2.fq.gz\" -o -name \"*_2.fastq\" -o -name \"*_2.fastq.gz\" \\) | head -n 1)\n",
    "\n",
    "            if [ -f \"$illumina_file1\" ] && [ -f \"$illumina_file2\" ]; then\n",
    "                echo \"Found Illumina files:\"\n",
    "                echo \"File 1: $illumina_file1\"\n",
    "                echo \"File 2: $illumina_file2\"\n",
    "\n",
    "                # Run BWA-MEM2 mapping\n",
    "                echo \"Running BWA-MEM2 mapping...\"\n",
    "                bwa-mem2 mem -t 80 \"$i\" \"$illumina_file1\" \"$illumina_file2\" > \"${output_dir}/bwa_mapping_${gd_part}.sam\"\n",
    "\n",
    "                echo \"Mapping completed. Output in ${output_dir}/bwa_mapping_${gd_part}.sam\"\n",
    "            else\n",
    "                echo \"Illumina files not found in $illumina_folder\"\n",
    "                echo \"Searched for patterns: *_R1.fastq.gz, *_R2.fastq.gz, *_1.fq.gz, *_2.fq.gz, *_1.fastq, *_2.fastq, *_1.fastq.gz, *_2.fastq.gz\"\n",
    "            fi\n",
    "        fi\n",
    "\n",
    "        echo \"----------------------------------------\"\n",
    "    fi\n",
    "done"
   ]
  },
  {
   "cell_type": "markdown",
   "metadata": {
    "id": "xIooOsuqLGzm"
   },
   "source": [
    "# Conversion SAM to BAM"
   ]
  },
  {
   "cell_type": "markdown",
   "metadata": {
    "id": "m6vAYlnl7Gh_"
   },
   "source": [
    "Bwa-mem2 will output sam file, that we need to convert to bam for further processing. Then file were also sorted to extract genome size and coverage."
   ]
  },
  {
   "cell_type": "code",
   "execution_count": null,
   "metadata": {
    "id": "ZJPZjgVrkoPX"
   },
   "outputs": [],
   "source": [
    "## Convertion SAM to BAM\n",
    "$ for file in /bigvol/omion/05-Polishing/BWA-MEM2/Mapping/*/*/Gd*/bwa_mapping_Gd*.sam; do\n",
    "    output=\"${file%.sam}.bam\"\n",
    "    samtools view -bS \"$file\" --threads 80 > \"$output\"\n",
    "done\n",
    "\n",
    "\n",
    "## Sorting \n",
    "for basecaller in /bigvol/omion/05-Polishing/BWA-MEM2/Mapping/*; do\n",
    "    basecaller_name=$(basename \"$basecaller\")\n",
    "    for mode in \"$basecaller\"/*; do\n",
    "        mode_name=$(basename \"$mode\")\n",
    "        for file in \"$mode\"/Gd*/bwa_mapping_Gd*.bam; do\n",
    "            if [ -f \"$file\" ]; then\n",
    "                dir=$(dirname \"$file\")\n",
    "                sample=$(basename \"$file\" | cut -d'_' -f3)\n",
    "                output_file=\"$dir/sorted_bwa_mapping_${sample}_${basecaller_name}_${mode_name}.bam\"\n",
    "                samtools sort -o \"$output_file\" \"$file\" --threads 80\n",
    "                echo \"Sorted and renamed: $output_file\"\n",
    "            fi\n",
    "        done\n",
    "    done\n",
    "done"
   ]
  },
  {
   "cell_type": "code",
   "execution_count": null,
   "metadata": {
    "id": "eW_X8sr-1TLN"
   },
   "outputs": [],
   "source": [
    "## Estimation of genome size and coverage\n",
    "\n",
    "#!/bin/bash\n",
    "\n",
    "# Directory containing BAM files\n",
    "directory=\"/bigvol/omion/05-Polishing/BWA-MEM2/Mapping/*/*/Gd*/\"\n",
    "\n",
    "# Output header\n",
    "echo -e \"FileName\\tsize\\tcoverage\"\n",
    "\n",
    "# Process each BAM file\n",
    "for bamfile in $directory/sorted_bwa_mapping_Gd*.bam; do\n",
    "    # Extract the file name without extension and remove the prefix\n",
    "    filename=$(basename \"$bamfile\" .bam)\n",
    "    filename=${filename#sorted_bwa_mapping_}\n",
    "\n",
    "    # Calculate the genome size\n",
    "    size=$(samtools view -H \"$bamfile\" --threads 80 | grep -P '^@SQ' | cut -f 3 -d ':' | awk '{sum+=$1} END {print sum}')\n",
    "\n",
    "    # Calculate coverage\n",
    "    depth_sum=$(samtools depth \"$bamfile\" --threads 80 | awk '{sum+=$3} END {print sum}')\n",
    "    coverage=$(echo \"$depth_sum / $size\" | bc -l)\n",
    "\n",
    "    # Print the isolate name, the genome size, and the coverage\n",
    "    echo -e \"$filename\\t$size\\t$coverage\"\n",
    "done\n"
   ]
  },
  {
   "cell_type": "markdown",
   "metadata": {
    "id": "1tqycPBZoi6i"
   },
   "source": [
    "A table was created from the output. The first column contain isolate name, the second the genome size, and the third the coverage estimation."
   ]
  },
  {
   "cell_type": "markdown",
   "metadata": {
    "id": "eZMn2ZtHtu1B"
   },
   "source": [
    "# HyPo : Polishing of Flye Assembly using short Illumina reads"
   ]
  },
  {
   "cell_type": "code",
   "execution_count": null,
   "metadata": {
    "id": "n8htaKCs0OWh"
   },
   "outputs": [],
   "source": [
    "#!/bin/bash \n",
    "\n",
    "# Path to the data file containing genome size + coverage\n",
    "data_file=\"/bigvol/omion/05-Polishing/genome_size_coverage.txt\"\n",
    "\n",
    "# Directories containing input files\n",
    "fq_dir=\"/bigvol/shared_FunAdapt/00-illumina_Nanopore/illumina_shortreads\"\n",
    "index_dir=\"/bigvol/omion/05-Polishing/BWA-MEM2/Indexing/\"\n",
    "mapping_dir=\"/bigvol/omion/05-Polishing/BWA-MEM2/Mapping/\"\n",
    "\n",
    "# Number of threads used\n",
    "threads=40\n",
    "\n",
    "# Read the data file into an associative array\n",
    "declare -A data_map\n",
    "while IFS=$'\\t' read -r filename size coverage; do\n",
    "    data_map[\"$filename\"]=\"$size $coverage\"\n",
    "done < \"$data_file\"\n",
    "\n",
    "echo -e \"FileName\\tValue\\tAverage\"\n",
    "\n",
    "# Process each fasta and bam file\n",
    "for fasta in ${index_dir}/*/*/Gd*/assembly_Gd*.fasta; do\n",
    "    # Extract the identifier \n",
    "    identifier=$(basename \"$fasta\" .fasta | sed 's/assembly_//')\n",
    "\n",
    "    # Find the corresponding BAM file\n",
    "    bam_file=$(find ${mapping_dir}/*/*/Gd*/ -name \"sorted_bwa_mapping_${identifier}.bam\")\n",
    "    if [[ -z \"$bam_file\" ]]; then\n",
    "        echo \"No BAM file found for identifier $identifier\"\n",
    "        continue\n",
    "    fi\n",
    "\n",
    "    directory=$(dirname \"$fasta\")\n",
    "    gd_part=$(basename \"$directory\")\n",
    "    gd_number=$(echo \"$gd_part\" | grep -oP 'Gd\\K[0-9]+')\n",
    "\n",
    "    # Find the correct folder for FASTQ files\n",
    "    illumina_folder=$(find ${fq_dir} -type d -name \"Gd_*${gd_number}*\" | head -n 1)\n",
    "    if [[ -z \"$illumina_folder\" ]]; then\n",
    "        echo \"No matching Illumina folder found for $gd_part\"\n",
    "        continue\n",
    "    fi\n",
    "\n",
    "    echo \"Found Illumina folder: $illumina_folder\"\n",
    "    echo \"Contents of $illumina_folder:\"\n",
    "    ls -l \"$illumina_folder\"\n",
    "\n",
    "    # Find the Illumina files\n",
    "    illumina_file1=$(find \"$illumina_folder\" -type f \\( -name \"*_R1.fastq.gz\" -o -name \"*_1.fq.gz\" -o -name \"*_1.fastq\" -o -name \"*_1.fastq.gz\" \\) | head -n 1)\n",
    "    illumina_file2=$(find \"$illumina_folder\" -type f \\( -name \"*_R2.fastq.gz\" -o -name \"*_2.fq.gz\" -o -name \"*_2.fastq\" -o -name \"*_2.fastq.gz\" \\) | head -n 1)\n",
    "\n",
    "    if [[ -z \"$illumina_file1\" || -z \"$illumina_file2\" ]]; then\n",
    "        echo \"Illumina files not found for $identifier\"\n",
    "        continue\n",
    "    fi\n",
    "\n",
    "    echo \"Found Illumina files:\"\n",
    "    echo \"File 1: $illumina_file1\"\n",
    "    echo \"File 2: $illumina_file2\"\n",
    "\n",
    "    # Extract corresponding genome size and coverage\n",
    "    if [[ -n \"${data_map[$identifier]}\" ]]; then\n",
    "        size=$(echo \"${data_map[$identifier]}\" | awk '{print $1}')\n",
    "        coverage=$(echo \"${data_map[$identifier]}\" | awk '{print $2}')\n",
    "    else\n",
    "        echo \"No data found for identifier $identifier\"\n",
    "        continue\n",
    "    fi\n",
    "\n",
    "    # Run HyPo\n",
    "    hypo -r \"$illumina_file1\" \"$illumina_file2\" \\\n",
    "         -d \"$fasta\" \\\n",
    "         -b \"$bam_file\" \\\n",
    "         -c \"$coverage\" \\\n",
    "         -s \"${size}m\" \\\n",
    "         -t \"$threads\"\n",
    "done\n"
   ]
  }
 ],
 "metadata": {
  "colab": {
   "authorship_tag": "ABX9TyNeGfEnHDt0FqzJMCUvYd2g",
   "provenance": []
  },
  "kernelspec": {
   "display_name": "Python 3 (ipykernel)",
   "language": "python",
   "name": "python3"
  },
  "language_info": {
   "codemirror_mode": {
    "name": "ipython",
    "version": 3
   },
   "file_extension": ".py",
   "mimetype": "text/x-python",
   "name": "python",
   "nbconvert_exporter": "python",
   "pygments_lexer": "ipython3",
   "version": "3.10.12"
  }
 },
 "nbformat": 4,
 "nbformat_minor": 4
}
