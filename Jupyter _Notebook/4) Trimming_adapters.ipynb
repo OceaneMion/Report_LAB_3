{
 "cells": [
  {
   "cell_type": "markdown",
   "metadata": {
    "id": "kw_tiIkVm8lD"
   },
   "source": [
    "# Convertion ubam to fastq (Samtools 1.13)"
   ]
  },
  {
   "cell_type": "markdown",
   "metadata": {
    "id": "7Iy12hTD0A2P"
   },
   "source": [
    ">***Why do we need ubam to fastq conversion ?***"
   ]
  },
  {
   "cell_type": "markdown",
   "metadata": {
    "id": "2pZBVX8XvXRB"
   },
   "source": [
    "Once basecalling and modified basecalling were performed, we wanted to have a fastq format for adapters trimming, therefore we converted ubam output from dorado basecalling to fastq format using Samtools."
   ]
  },
  {
   "cell_type": "code",
   "execution_count": null,
   "metadata": {
    "id": "bgFUEtwDk5Ee"
   },
   "outputs": [],
   "source": [
    "#!/bin/bash \n",
    "\n",
    "# Create directories to stock merged fastq\n",
    "mkdir -p /bigvol/omion/01-Basecalling/merged_fastq/{Dorado,Guppy}/{modbasecalling,basecalling}\n",
    "\n",
    "for i in /bigvol/omion/01-Basecalling/Dorado/*/Gd*/*.bam; do\n",
    "    if [ -f \"$i\" ]; then\n",
    "        sample=$(basename \"$i\")\n",
    "        directory=$(dirname \"$i\")\n",
    "        gd_part=$(basename \"$directory\")\n",
    "\n",
    "        # Extract the basecalling type (modbasecalling or basecalling)\n",
    "        basecalling_type=$(echo \"$i\" | awk -F'/' '{print $6}')\n",
    "\n",
    "        # Create the output directory path\n",
    "        output_dir=\"/bigvol/omion/01-Basecalling/merged_fastq/Dorado/${basecalling_type}\"\n",
    "\n",
    "        # Run samtools to convert BAM to FASTQ and save the output in the corresponding directory with the correct filename\n",
    "        samtools fastq \"$i\" > \"${output_dir}/${gd_part}.fastq\"\n",
    "    fi\n",
    "done\n"
   ]
  },
  {
   "cell_type": "markdown",
   "metadata": {
    "id": "QirAO47PyeJY"
   },
   "source": [
    "Note:\n",
    "Fastq files of the same isolates from Guppy were merged using a cat command.\n",
    "\n",
    "Merged fastq from Guppy were then mooved to the folder:  \n",
    "/bigvol/omion/01-Basecalling/merged_fastq/Guppy/basecalling  (for classical basecalling)\n",
    "/bigvol/omion/01-Basecalling/merged_fastq/Guppy/modbasecalling  (for basecalling of modified bases)\n"
   ]
  },
  {
   "cell_type": "markdown",
   "metadata": {
    "id": "O_kIM1gGHeb0"
   },
   "source": [
    "# Porechop"
   ]
  },
  {
   "cell_type": "markdown",
   "metadata": {
    "id": "BTqhto8Fzoi-"
   },
   "source": [
    "Porechop is the software we used to trim our adapters. It take a single concatenated fastq file as input. Dorado basecalling will trimmed by defaut the adapters except if you specify --no-trim option, this option was not specified. Despite this Porechop was still performed on reads basecall with Dorado, as some adapters were not properly removed, ( it was also performed on reads basecalls by Guppy)."
   ]
  },
  {
   "cell_type": "code",
   "execution_count": null,
   "metadata": {
    "id": "jlvgQnd5nPT3"
   },
   "outputs": [],
   "source": [
    "#!/bin/bash \n",
    "\n",
    "# Create directories to stock trimmed fastq\n",
    "mkdir -p /bigvol/omion/03-Porechop/{Dorado,Guppy}/{modbasecalling,basecalling}\n",
    "\n",
    "for i in /bigvol/omion/01-Basecalling/merged_fastq/*/*/*.fastq; do\n",
    "    if [ -f \"$i\" ]; then\n",
    "        sample=$(basename \"$i\")\n",
    "        directory=$(dirname \"$i\")\n",
    "        gd_part=$(basename \"$sample\" .fastq)\n",
    "\n",
    "        # Extract the basecalling method (Dorado or Guppy) and type (modbasecalling or basecalling)\n",
    "        basecalling_method=$(echo \"$directory\" | awk -F'/' '{print $(NF-1)}')\n",
    "        basecalling_type=$(echo \"$directory\" | awk -F'/' '{print $NF}')\n",
    "\n",
    "        # Create the output directory path\n",
    "        output_dir=\"/bigvol/omion/03-Porechop/${basecalling_method}/${basecalling_type}\"\n",
    "\n",
    "        # Run porechop and save the output in the corresponding directory \n",
    "        porechop -t 80 -i \"$i\" -o \"${output_dir}/${gd_part}.fastq\"\n",
    "    fi\n",
    "done\n"
   ]
  }
 ],
 "metadata": {
  "colab": {
   "authorship_tag": "ABX9TyNUHi8yRRNGgmkQPKJUG+jW",
   "provenance": []
  },
  "kernelspec": {
   "display_name": "Python 3 (ipykernel)",
   "language": "python",
   "name": "python3"
  },
  "language_info": {
   "codemirror_mode": {
    "name": "ipython",
    "version": 3
   },
   "file_extension": ".py",
   "mimetype": "text/x-python",
   "name": "python",
   "nbconvert_exporter": "python",
   "pygments_lexer": "ipython3",
   "version": "3.10.12"
  }
 },
 "nbformat": 4,
 "nbformat_minor": 4
}
