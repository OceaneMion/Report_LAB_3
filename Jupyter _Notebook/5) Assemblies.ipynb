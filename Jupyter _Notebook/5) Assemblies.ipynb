{
 "cells": [
  {
   "cell_type": "markdown",
   "metadata": {
    "id": "no3xOX1g1YC1"
   },
   "source": [
    "# What is an assembly ?"
   ]
  },
  {
   "cell_type": "markdown",
   "metadata": {
    "id": "eMHxQuyP1c2q"
   },
   "source": [
    "Assemblies are the reconstruction of the genome from basecall reads, it allow to otain contigs (continous genomic sequence reconstruct from reads)."
   ]
  },
  {
   "cell_type": "markdown",
   "metadata": {
    "id": "3mKcBxG_PiDX"
   },
   "source": [
    "# Flye for genomic assemblies"
   ]
  },
  {
   "cell_type": "markdown",
   "metadata": {
    "id": "2cQcHrTDnAYN"
   },
   "source": [
    "To obtain genomic assemblies we used Flye, as in a previous Ph.D thesis (Imogen) Shasta was proven to produce less contiguous assemblies."
   ]
  },
  {
   "cell_type": "markdown",
   "metadata": {
    "id": "633X2sq52XU2"
   },
   "source": [
    ">***Installation Flye***"
   ]
  },
  {
   "cell_type": "code",
   "execution_count": null,
   "metadata": {
    "id": "43a3350AAGBD"
   },
   "outputs": [],
   "source": [
    "$ git clone https://github.com/fenderglass/Flye\n",
    "$ cd Flye\n",
    "$ make"
   ]
  },
  {
   "cell_type": "markdown",
   "metadata": {
    "id": "O_kIM1gGHeb0"
   },
   "source": [
    ">***Running Flye (v2.9.3-b1797) on all assemblies***"
   ]
  },
  {
   "cell_type": "code",
   "execution_count": null,
   "metadata": {
    "id": "m3GotbUsrgER"
   },
   "outputs": [],
   "source": [
    "#!/bin/bash\n",
    "\n",
    "# Create folders to stock Flye assemblies from Dorado and Guppy basecalls reads\n",
    "mkdir -p /bigvol/omion/04-Flye/{Dorado,Guppy}/{modbasecalling,basecalling}\n",
    "\n",
    "for i in /bigvol/omion/03-Porechop/*/*/Gd*.fastq; do\n",
    "    if [ -f \"$i\" ]; then\n",
    "        sample=$(basename \"$i\")\n",
    "        directory=$(dirname \"$i\")\n",
    "        gd_part=$(basename \"$sample\" .fastq)\n",
    "\n",
    "        # Extract the basecalling method (Dorado or Guppy) and type (modbasecalling or basecalling)\n",
    "        basecalling_method=$(echo \"$directory\" | awk -F'/' '{print $(NF-1)}')\n",
    "        basecalling_type=$(echo \"$directory\" | awk -F'/' '{print $NF}')\n",
    "\n",
    "        # Create the output directory path\n",
    "        output_dir=\"/bigvol/omion/04-Flye/${basecalling_method}/${basecalling_type}/${gd_part}\"\n",
    "\n",
    "        mkdir -p \"${output_dir}\"\n",
    "\n",
    "        # Run Flye and save the output in the corresponding directory\n",
    "        flye --nano-hq \"$i\" --out-dir \"${output_dir}\" -t 80 -i 2\n",
    "\n",
    "        echo \"Processed $i. Output in ${output_dir}\"\n",
    "    fi\n",
    "done"
   ]
  }
 ],
 "metadata": {
  "colab": {
   "authorship_tag": "ABX9TyPpABZX7D99P183Jxob8goa",
   "provenance": []
  },
  "kernelspec": {
   "display_name": "Python 3 (ipykernel)",
   "language": "python",
   "name": "python3"
  },
  "language_info": {
   "codemirror_mode": {
    "name": "ipython",
    "version": 3
   },
   "file_extension": ".py",
   "mimetype": "text/x-python",
   "name": "python",
   "nbconvert_exporter": "python",
   "pygments_lexer": "ipython3",
   "version": "3.10.12"
  }
 },
 "nbformat": 4,
 "nbformat_minor": 4
}
