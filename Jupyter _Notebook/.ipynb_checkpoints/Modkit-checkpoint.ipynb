{
 "cells": [
  {
   "cell_type": "markdown",
   "metadata": {
    "id": "VJLlqrAEu5e5"
   },
   "source": [
    "# Guideline to prepare files for methylation calling with modkit"
   ]
  },
  {
   "cell_type": "markdown",
   "metadata": {
    "id": "zfuQI7dWjGUL"
   },
   "source": [
    "For methylation calling we choosed to use reads basecall with Dorado, as well as their respective assemblies construct from Dorado basecalling. As dorado was much more quicker to perform than Guppy and output similar basecalling accuracy and assemblies quality to Guppy."
   ]
  },
  {
   "cell_type": "markdown",
   "metadata": {
    "id": "CoF1bea9u-LB"
   },
   "source": [
    "## I. Dorado trimming\n",
    "\n",
    "First, we need to trim our adapters from the ubam files  produced by Dorado basecalling, normally it is done by default by Dorado, but as a precausion was run again\n",
    "\n",
    "Note: ubam file are the official format of Dorado basecalling to stock methylation data (it is based on bam file but unaligned, and contain an MM and ML tag prone for methylation storage).It contain the same information as a fastq, with the identifier of the read, the corresponding sequence, and the quality."
   ]
  },
  {
   "cell_type": "markdown",
   "metadata": {
    "id": "tVrRhNbnvT1N"
   },
   "source": [
    "## II. Dorado aligner\n",
    "\n",
    "Once adapters are removed from the reads, we need to aligned our ubam to our reference genome (the one obtain from HyPo polishing)\n"
   ]
  },
  {
   "cell_type": "markdown",
   "metadata": {
    "id": "uQJPz-sgvk10"
   },
   "source": [
    "## III. Samtools sort + index\n",
    "\n",
    "After aligning or ubam to the ref genome, we need to first sort, then index the files"
   ]
  },
  {
   "cell_type": "markdown",
   "metadata": {
    "id": "AXGSi4dFUDdH"
   },
   "source": [
    "## Code for Trimming, aligning, and sort + index for all samples"
   ]
  },
  {
   "cell_type": "code",
   "execution_count": null,
   "metadata": {
    "id": "Tt7q1N4CFCO9"
   },
   "outputs": [],
   "source": [
    "#!/bin/bash\n",
    "\n",
    "# Find all files in the current directory with the specified extension\n",
    "files=$(find . -type f -name \"*_dorado_modbasecalling.bam\")\n",
    "\n",
    "# Iterate over each file found\n",
    "for file in $files\n",
    "do\n",
    "    # Extract the filename without extension\n",
    "    filename=$(basename \"$file\" \"_dorado_modbasecalling.bam\")\n",
    "\n",
    "    # Execute the dorado trim command for each file\n",
    "    dorado trim \"$file\" > \"${filename}_trimmed.bam\" -t 50\n",
    "\n",
    "    # Execute the alignment command for each trimmed BAM file\n",
    "    dorado aligner /bigvol/omion/HyPo/hypo_\"$filename\"_Dorado_modbasecalling.fasta ./\"$filename\"_trimmed.bam --bandwidth \"500,20000\" -t 50 > \"aligned_trimmed_$filename.bam\"\n",
    "\n",
    "    # Sort the aligned BAM file\n",
    "    samtools sort \"aligned_trimmed_$filename.bam\" -O BAM -o \"aligned_sort_$filename.bam\" -@ 50\n",
    "\n",
    "    # Index the sorted BAM file\n",
    "    samtools index -@ 50 \"aligned_sort_$filename.bam\"\n",
    "\n",
    "done\n"
   ]
  },
  {
   "cell_type": "markdown",
   "metadata": {
    "id": "V6kTF7rpv4ZI"
   },
   "source": [
    "# Modkit\n",
    "\n",
    "Now we can process the resulting files with Modkit which will output .tsv or .bed files containing methylation information (probability),reference position in the genome, type of methylation..."
   ]
  },
  {
   "cell_type": "markdown",
   "metadata": {
    "id": "rZxyAxiauofh"
   },
   "source": [
    "01- Pileup\n",
    "= Allow to obtain the probability of methylation for each genomic position\n",
    "Here I did not perform any filtering (no methylation threshold) + I created CG motif files (position of each CG in the reference genome) for each isolates and use them for the methylation"
   ]
  },
  {
   "cell_type": "markdown",
   "metadata": {
    "id": "W0_BTp8UwD1I"
   },
   "source": [
    "02- Bedtools complement\n",
    "\n",
    "The goals is to have the complement position of the pileup output. Indeed pileup will only give you the position of the genome where methylation is present.\n",
    "You will need to create genome file before with the first column being the contig name and the second the lengh of the contig"
   ]
  },
  {
   "cell_type": "markdown",
   "metadata": {
    "id": "2No5HuQJ7DaA"
   },
   "source": [
    "03- Cat to merge the complement and pileup"
   ]
  },
  {
   "cell_type": "code",
   "execution_count": null,
   "metadata": {
    "id": "yCqDsxb9DHBq"
   },
   "outputs": [],
   "source": [
    "### Modkit pileup good code (24 mai)\n",
    "\n",
    "/bigvol/omion/Software/dist/modkit pileup /bigvol/omion/11-Methylation/02-samtools_sort_index/aligned_sort_Gd293.bam pileup_Gd293.bed --combine-strands --cpg --only-tabs -r /bigvol/omion/07-Filtered_Assemblies/filtered_hypo_Gd293_Dorado_modbasecalling.fasta --include-bed /bigvol/omion/11-Methylation/03-modkit-motif_bed/filtered_hypo_Gd293_Dorado_modbasecalling_cg_modifs.bed --no-filtering -t 40\n"
   ]
  },
  {
   "cell_type": "markdown",
   "metadata": {
    "id": "cWwZFqRqweyH"
   },
   "source": [
    "## Calculate Genome-wide 5mCpG and 5hmCpG %"
   ]
  },
  {
   "cell_type": "markdown",
   "metadata": {
    "id": "kobNDeIXG8CW"
   },
   "source": [
    "We calculated the mean % of 5mC and 5hmC at CpG sites using the following command lines:\n",
    "\n",
    "The calculation is based on the number of reads that have a detected methylation mark at a given genomic position.\n",
    "Therefore, the calculation is for each position:\n",
    "Number of aligned CpG with 5mC (or 5hmC) / Number of total CpG"
   ]
  },
  {
   "cell_type": "code",
   "execution_count": null,
   "metadata": {
    "id": "r0NGAkN2woKY"
   },
   "outputs": [],
   "source": [
    "## Code to obtain global number of methylated sites (comprise both 5mC and 5hmC as the model is probabilistic)\n",
    "awk '($4==\"m\") && ($11>0.0)' ${bedmethyl_cpg} | wc -l\n",
    "\n",
    "## Code to obtain global methylation level (5mC, 5hmC)\n",
    "awk '$4==\"m\" {can+=$13; mod+=$12; oth+=$14; valid+=$10} \\\n",
    "  END{print (can/valid) \" CpG canonical\\n\" (mod/valid) \" 5mCpG modified\\n\" (oth/valid) \" 5hmCpG modified\"}' ${pileup_bed}"
   ]
  },
  {
   "cell_type": "markdown",
   "metadata": {
    "id": "1O7gr0wMZ73r"
   },
   "source": [
    "Data were then store in a google sheet file (See Table/Genome_wide_methylation), and a Rscript was made to plot the results"
   ]
  },
  {
   "cell_type": "markdown",
   "metadata": {
    "id": "XNdUBWMSj1ki"
   },
   "source": [
    "##Rscript"
   ]
  },
  {
   "cell_type": "code",
   "execution_count": null,
   "metadata": {
    "id": "Fnx9qy1AaDxQ"
   },
   "outputs": [],
   "source": [
    "setwd(\"C:/Users/ocean/Downloads\")\n",
    "\n",
    "library(ggplot2)\n",
    "library(dplyr)\n",
    "library(gridExtra)\n",
    "library(ggtext)\n",
    "\n",
    "# Read the data\n",
    "data <- read.delim(\"Genome_wide_methylation(1).csv\", header = TRUE)\n",
    "\n",
    "# Assign colors based on category in column 2\n",
    "data$color <- case_when(\n",
    "  data[[2]] == 1 ~ \"#FF5733\",\n",
    "  data[[2]] == 2 ~ \"#3377FF\",\n",
    "  data[[2]] == \"Outgroup\" ~ \"#9ACD32\",\n",
    "  TRUE ~ \"black\"  # Default color for any other categories\n",
    ")\n",
    "\n",
    "# Function to order data by color and a specific column in decreasing order\n",
    "order_data <- function(data, column_index) {\n",
    "  data %>%\n",
    "    mutate(color = factor(color, levels = c(\"#FF5733\", \"#3377FF\", \"#9ACD32\"))) %>%\n",
    "    arrange(color, desc(data[[column_index]]))\n",
    "}\n",
    "\n",
    "# Order the data for each plot\n",
    "data1 <- order_data(data, 3)\n",
    "data2 <- order_data(data, 4)\n",
    "data3 <- order_data(data, 5)\n",
    "\n",
    "# Create a factor for the first column based on the new order for each plot\n",
    "data1[[1]] <- factor(data1[[1]], levels = data1[[1]])\n",
    "data2[[1]] <- factor(data2[[1]], levels = data2[[1]])\n",
    "data3[[1]] <- factor(data3[[1]], levels = data3[[1]])\n",
    "\n",
    "# Create the three plots\n",
    "plot1 <- ggplot(data1, aes(x = data1[[1]], y = data1[[3]], fill = color)) +\n",
    "  geom_col() +\n",
    "  scale_fill_identity() +\n",
    "  labs(x = colnames(data1)[1], y = \"Nb of methylated sites\",\n",
    "       title = \"Number of methylated sites per isolates\") +\n",
    "  theme_minimal() +\n",
    "  theme(axis.text.x = element_text(angle = 45, hjust = 1))\n",
    "\n",
    "plot2 <- ggplot(data2, aes(x = data2[[1]], y = data2[[4]], fill = color)) +\n",
    "  geom_col() +\n",
    "  scale_fill_identity() +\n",
    "  labs(x = colnames(data2)[1], y = \"5mCpG %\",\n",
    "       title = \"Genome wide 5mCpG % per isolates\") +\n",
    "  theme_minimal() +\n",
    "  theme(axis.text.x = element_text(angle = 45, hjust = 1))\n",
    "\n",
    "plot3 <- ggplot(data3, aes(x = data3[[1]], y = data3[[5]], fill = color)) +\n",
    "  geom_col() +\n",
    "  scale_fill_identity() +\n",
    "  labs(x = colnames(data3)[1], y = \"5hmCpG %\",\n",
    "       title = \"Genome wide 5hmCpG % per isolates\") +\n",
    "  theme_minimal() +\n",
    "  theme(axis.text.x = element_text(angle = 45, hjust = 1),\n",
    "        plot.title = element_markdown(hjust = 0.5))\n",
    "\n",
    "# Arrange the plots in a grid\n",
    "grid.arrange(plot1, plot2, plot3, ncol = 2)\n"
   ]
  },
  {
   "cell_type": "markdown",
   "metadata": {
    "id": "TbNwBC7xf2e_"
   },
   "source": [
    "## Calculate contig-wide 5mCpG and 5hmCpG %"
   ]
  },
  {
   "cell_type": "markdown",
   "metadata": {
    "id": "_Y736WGthn4_"
   },
   "source": [
    "Then we choose to also see if some contigs from our assemblies display more or less methylation"
   ]
  },
  {
   "cell_type": "code",
   "execution_count": null,
   "metadata": {
    "id": "7TVqDwsBhuO-"
   },
   "outputs": [],
   "source": []
  },
  {
   "cell_type": "markdown",
   "metadata": {
    "id": "UTVFuexUj9UX"
   },
   "source": [
    "##Rscript"
   ]
  },
  {
   "cell_type": "code",
   "execution_count": null,
   "metadata": {
    "id": "9CeVSlf7j_yE"
   },
   "outputs": [],
   "source": [
    "setwd(\"C:/Users/ocean/Desktop\")\n",
    "\n",
    "# Load necessary libraries\n",
    "library(ggplot2)\n",
    "library(dplyr)\n",
    "library(gridExtra)\n",
    "\n",
    "# Read the CSV file\n",
    "data <- read.delim(\"contig_wide_methylation.csv\", header = TRUE, sep=\",\")\n",
    "\n",
    "# Rename columns for clarity (adjust these names as needed)\n",
    "colnames(data)[c(2,3,4,5)] <- c(\"Legend\", \"name\", \"category4\", \"value\")\n",
    "\n",
    "# Function to filter unique contig names and reorder by value\n",
    "filter_unique_contigs_and_reorder <- function(df) {\n",
    "  df <- df %>%\n",
    "    group_by(name) %>%\n",
    "    filter(row_number() == 1) %>%\n",
    "    ungroup() %>%\n",
    "    arrange(desc(value))\n",
    "  return(df)\n",
    "}\n",
    "\n",
    "# Define colors for each category in Legend\n",
    "colors <- c(\"1\" = \"#FF5733\", \"2\" = \"#3377FF\", \"Outgroup\" = \"#9ACD32\")\n",
    "\n",
    "# Create separate plots for 'h' and 'm', with unique contig names and ordered by value\n",
    "plot_h <- data %>%\n",
    "  filter(category4 == \"h\") %>%\n",
    "  filter_unique_contigs_and_reorder() %>%\n",
    "  ggplot(aes(x = reorder(name, -value), y = value, fill = Legend)) +  # Use reorder for ordering\n",
    "  geom_bar(stat = \"identity\", position = position_dodge(width = 0.9), color = \"black\") +\n",
    "  facet_wrap(~ Legend, ncol = 1, scales = \"free_x\") +\n",
    "  scale_x_discrete(expand = c(0, 0)) +\n",
    "  scale_y_continuous(expand = c(0, 0), limits = NULL, name = \"5hmCpG %\") +  # Y-axis label for the first plot\n",
    "  scale_fill_manual(values = colors) +  # Use manual scale for fill colors\n",
    "  theme_minimal() +\n",
    "  theme(\n",
    "    axis.text.x = element_blank(),\n",
    "    axis.ticks.x = element_blank(),\n",
    "    panel.grid.major.x = element_blank(),\n",
    "    panel.grid.minor.x = element_blank(),\n",
    "    panel.spacing = unit(0.1, \"lines\")\n",
    "  ) +\n",
    "  labs(title = expression(paste(\"Mean 5hmCpG % in \", italic(\"P. destructans\"), \" and outgroup contigs\")), x = NULL, y = NULL)\n",
    "\n",
    "plot_m <- data %>%\n",
    "  filter(category4 == \"m\") %>%\n",
    "  filter_unique_contigs_and_reorder() %>%\n",
    "  ggplot(aes(x = reorder(name, -value), y = value, fill = Legend)) +  # Use reorder for ordering\n",
    "  geom_bar(stat = \"identity\", position = position_dodge(width = 0.9), color = \"black\") +\n",
    "  facet_wrap(~ Legend, ncol = 1, scales = \"free_x\") +\n",
    "  scale_x_discrete(expand = c(0, 0)) +\n",
    "  scale_y_continuous(expand = c(0, 0), limits = NULL, name = \"5mCpG %\") +  # Y-axis label for the second plot\n",
    "  scale_fill_manual(values = colors) +  # Use manual scale for fill colors\n",
    "  theme_minimal() +\n",
    "  theme(\n",
    "    axis.text.x = element_blank(),\n",
    "    axis.ticks.x = element_blank(),\n",
    "    panel.grid.major.x = element_blank(),\n",
    "    panel.grid.minor.x = element_blank(),\n",
    "    panel.spacing = unit(0.1, \"lines\")\n",
    "  ) +\n",
    "  labs(title = expression(paste(\"Mean 5mCpG % in \", italic(\"P. destructans\"), \" and outgroup contigs\")), x = NULL, y = NULL)\n",
    "\n",
    "# Arrange and display plots in two rows\n",
    "grid.arrange(plot_h, plot_m, nrow = 2)\n"
   ]
  }
 ],
 "metadata": {
  "colab": {
   "authorship_tag": "ABX9TyO9XRwiPxmIiAedWlXCw5EB",
   "provenance": []
  },
  "kernelspec": {
   "display_name": "Python 3 (ipykernel)",
   "language": "python",
   "name": "python3"
  },
  "language_info": {
   "codemirror_mode": {
    "name": "ipython",
    "version": 3
   },
   "file_extension": ".py",
   "mimetype": "text/x-python",
   "name": "python",
   "nbconvert_exporter": "python",
   "pygments_lexer": "ipython3",
   "version": "3.10.12"
  }
 },
 "nbformat": 4,
 "nbformat_minor": 4
}
