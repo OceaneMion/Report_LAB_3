{
 "cells": [
  {
   "cell_type": "markdown",
   "metadata": {
    "id": "kXbWbsEQsdCu"
   },
   "source": [
    "After basecalling, we can obtain several basecalling statistic notably about the basecalling quality, mean reads lenght, number of bases calls, N50 of reads...\n",
    "\n",
    "For that two software were used: PycoQC and NanoStat\n",
    "- PycoQC will give the statistics as html report\n",
    "- NanoStat will give a table with basecalling statistics"
   ]
  },
  {
   "cell_type": "markdown",
   "metadata": {
    "id": "lbUggc6Go0Nj"
   },
   "source": [
    "Guppy outputs by default a sequencing_summary.txt file containing basic quality control (QC) information of the basecalling run (phred score, number of reads, N50…). Dorado does not output directly this file, and requires the following command line, to output a .tsv sequencing_summary file :"
   ]
  },
  {
   "cell_type": "markdown",
   "metadata": {
    "id": "hZxOOvF5wsvx"
   },
   "source": [
    "# Create Dorado basecalling summary file"
   ]
  },
  {
   "cell_type": "code",
   "execution_count": null,
   "metadata": {
    "id": "s3pCY-TbpEc1"
   },
   "outputs": [],
   "source": [
    "$ for dir in /bigvol/omion/01-Basecalling/Dorado/*/Gd*/; do\n",
    "    summary_file=\"${dir}sequencing_summary.tsv\"\n",
    "    for bam_file in \"${dir}\"*.bam; do\n",
    "        dorado summary \"$bam_file\" >> \"$summary_file\"\n",
    "    done\n",
    "done"
   ]
  },
  {
   "cell_type": "markdown",
   "metadata": {
    "id": "hZxOOvF5wsvx"
   },
   "source": [
    "# PycoQC (Control Quality analysis)"
   ]
  },
  {
   "cell_type": "markdown",
   "metadata": {
    "id": "hn3ryOiwzX6c"
   },
   "source": [
    ">***Installation PycoQC***"
   ]
  },
  {
   "cell_type": "code",
   "execution_count": null,
   "metadata": {
    "id": "0Qz13MktzjPU"
   },
   "outputs": [],
   "source": [
    "$ pip install pycoQC"
   ]
  },
  {
   "cell_type": "markdown",
   "metadata": {
    "id": "-YFtivBVNX5h"
   },
   "source": [
    ">***Creation of pycoQC html reports for both Dorado and Guppy sequencing_summary files***\n"
   ]
  },
  {
   "cell_type": "code",
   "execution_count": null,
   "metadata": {
    "id": "jGJ8LkNb4RC_"
   },
   "outputs": [],
   "source": [
    "#!/bin/bash\n",
    "\n",
    "# Create directories to stock PycoQC reports\n",
    "mkdir -p /bigvol/omion/02-QC_analysis/pycoQC/{Dorado,Guppy}/{modbasecalling,basecalling}\n",
    "\n",
    "# For loop to execute PycoQC on all files\n",
    "for i in /bigvol/omion/01-Basecalling/*/*/Gd*/sequencing_summary.{txt,tsv}; do\n",
    "    if [ -f \"$i\" ]; then\n",
    "        sample=$(basename \"$i\")\n",
    "        directory=$(dirname \"$i\")\n",
    "        gd_part=$(basename \"$directory\")\n",
    "\n",
    "        # Extract the basecalling method (Dorado or Guppy) and type (modbasecalling or basecalling)\n",
    "        basecalling_method=$(echo \"$i\" | awk -F'/' '{print $5}')\n",
    "        basecalling_type=$(echo \"$i\" | awk -F'/' '{print $6}')\n",
    "\n",
    "        # Create the output directory path\n",
    "        output_dir=\"/bigvol/omion/02-QC_analysis/pycoQC/${basecalling_method}/${basecalling_type}\"\n",
    "\n",
    "        # Run pycoQC and save the output in the corresponding directory\n",
    "        pycoQC -f \"$i\" -o \"${output_dir}/pycoQC_${gd_part}.html\"\n",
    "    fi\n",
    "done\n"
   ]
  },
  {
   "cell_type": "markdown",
   "metadata": {
    "id": "kcLUR8UNv10l"
   },
   "source": [
    ">***Visualisation of PycoQC reports***\n"
   ]
  },
  {
   "cell_type": "markdown",
   "metadata": {
    "id": "QkUMZDqE3npt"
   },
   "source": [
    "To visualise pycoQC reports either right click on the file and click open with firefox or use a terminal :"
   ]
  },
  {
   "cell_type": "code",
   "execution_count": null,
   "metadata": {
    "id": "hAT8CNaZwK6i"
   },
   "outputs": [],
   "source": [
    "$ firefox ./pycoQC_Gd45.html  ## Open the report for sample Gd45 in firefox"
   ]
  },
  {
   "cell_type": "markdown",
   "metadata": {
    "id": "s5r8bsAQYjG1"
   },
   "source": [
    "# NanoStat (QC analysis)"
   ]
  },
  {
   "cell_type": "markdown",
   "metadata": {},
   "source": [
    ">***Install NanoStat***"
   ]
  },
  {
   "cell_type": "code",
   "execution_count": null,
   "metadata": {},
   "outputs": [],
   "source": [
    "$ pip install nanostat"
   ]
  },
  {
   "cell_type": "code",
   "execution_count": null,
   "metadata": {
    "id": "ji4CSGAVx0X2"
   },
   "outputs": [],
   "source": [
    "#!/bin/bash\n",
    "\n",
    "# Create base directories\n",
    "mkdir -p /bigvol/omion/02-QC_analysis/NanoStat/{Dorado,Guppy}/{modbasecalling,basecalling}\n",
    "\n",
    "for i in /bigvol/omion/01-Basecalling/*/*/Gd*/sequencing_summary.{txt,tsv}; do\n",
    "    if [ -f \"$i\" ]; then\n",
    "        sample=$(basename \"$i\")\n",
    "        directory=$(dirname \"$i\")\n",
    "        gd_part=$(basename \"$directory\")\n",
    "\n",
    "        # Extract the basecalling method (Dorado or Guppy) and type (modbasecalling or basecalling)\n",
    "        basecalling_method=$(echo \"$i\" | awk -F'/' '{print $5}')\n",
    "        basecalling_type=$(echo \"$i\" | awk -F'/' '{print $6}')\n",
    "\n",
    "        # Create the output directory path\n",
    "        output_dir=\"/bigvol/omion/02-QC_analysis/NanoStat/${basecalling_method}/${basecalling_type}\"\n",
    "\n",
    "        # Run NanoStat and save the output in the corresponding directory \n",
    "        NanoStat --summary \"$i\" > \"${output_dir}/${gd_part}.txt\"\n",
    "    fi\n",
    "done"
   ]
  }
 ],
 "metadata": {
  "colab": {
   "authorship_tag": "ABX9TyNj59fSvysOacD3j4Q3baDf",
   "provenance": []
  },
  "kernelspec": {
   "display_name": "Python 3 (ipykernel)",
   "language": "python",
   "name": "python3"
  },
  "language_info": {
   "codemirror_mode": {
    "name": "ipython",
    "version": 3
   },
   "file_extension": ".py",
   "mimetype": "text/x-python",
   "name": "python",
   "nbconvert_exporter": "python",
   "pygments_lexer": "ipython3",
   "version": "3.10.12"
  }
 },
 "nbformat": 4,
 "nbformat_minor": 4
}
