{
 "cells": [
  {
   "cell_type": "markdown",
   "metadata": {
    "id": "Id2mRahxUx4-"
   },
   "source": [
    "# What is basecalling ?"
   ]
  },
  {
   "cell_type": "markdown",
   "metadata": {
    "id": "J12_IS48U06O"
   },
   "source": [
    "Basecalling is the process of obtaining DNA sequences of reads from the squiggle obtain by Nanopore Sequencing (See Nanopore Sequencing Notebook).\n",
    "It is based on neural network and large training dataset. For Oxford nanopore basecalling it is trained on large dataset of bacteria (C. elegans), and human genomic sequences.\n",
    "\n",
    "In this study we used two basecallers to detect methylation and transposable elements :\n",
    "- Guppy\n",
    "- Dorado\n",
    "\n",
    "Guppy is the old reference basecaller from Oxford Nanopore, while Dorado is the most recent one. Dorado uses pod5 files as input and promise to decrease computationnal time without decreasing basecalling accuracy.\n",
    "\n",
    "Classical basecalling and basecalling of modified bases uses differents algorithm and option in Guppy and Dorado. Therefore to detect methylation we needed to perform back the basecalling on modified bases.\n",
    "\n",
    "For both basecalling tools we will use the sup : super accuracy model, which is supposed to give the highest basecalling accuracy, but is in counterpart the most computationnaly intensive."
   ]
  },
  {
   "cell_type": "markdown",
   "metadata": {
    "id": "pyxxQHhdFwuS"
   },
   "source": [
    "# Guppy basecalling"
   ]
  },
  {
   "cell_type": "markdown",
   "metadata": {
    "id": "fShYQa39fmh_"
   },
   "source": [
    ">***Our Guppy 6.5.7 model***"
   ]
  },
  {
   "cell_type": "markdown",
   "metadata": {
    "id": "eTJkhQscF2c_"
   },
   "source": [
    "\n",
    "    📚 Basecalling : dna_r9.4.1_450bps_sup.cfg  \n",
    "\n",
    "    📚 Modified Basecalling : dna_r9.4.1_450bps_modbases_5hmc_5mc_cg_sup.cfg\n"
   ]
  },
  {
   "cell_type": "markdown",
   "metadata": {
    "id": "BuzjxaE4F8OG"
   },
   "source": [
    "  >***Running Guppy 6.5.7 classical basecalling***"
   ]
  },
  {
   "cell_type": "code",
   "execution_count": null,
   "metadata": {
    "id": "m6fbTiwqF7dn"
   },
   "outputs": [],
   "source": [
    "for i in ./Gd*; do\n",
    "    /home/data/ont-guppy_6.5.7/bin/guppy_basecaller -i \"$i\" -c dna_r9.4.1_450bps_sup.cfg -s \"./$(basename \"$i\")_Guppy_basecalling\" --bam_out --recursive --device cuda:all:100%\n",
    "done"
   ]
  },
  {
   "cell_type": "markdown",
   "metadata": {
    "id": "zeEPXgBlgVPx"
   },
   "source": [
    "  >***Running Guppy 6.5.7 modified basecalling***"
   ]
  },
  {
   "cell_type": "code",
   "execution_count": null,
   "metadata": {
    "id": "NZdWSpITh0i0"
   },
   "outputs": [],
   "source": [
    "for i in ./Gd*; do\n",
    "    /home/data/ont-guppy_6.5.7/bin/guppy_basecaller -i \"$i\" -c dna_r9.4.1_450bps_modbases_5hmc_5mc_cg_sup.cfg -s \"./$(basename \"$i\")_Guppy_basecalling\" --bam_out --recursive --device cuda:all:100%\n",
    "done"
   ]
  },
  {
   "cell_type": "markdown",
   "metadata": {
    "id": "1SpS5cG5X1hI"
   },
   "source": [
    "# Dorado basecalling"
   ]
  },
  {
   "cell_type": "markdown",
   "metadata": {
    "id": "bf_JHfoFYGa0"
   },
   "source": [
    ">***Conversion fast5 to pod5, Why do we need fast5 to pod5 convertion ?***"
   ]
  },
  {
   "cell_type": "markdown",
   "metadata": {
    "id": "UqGINFFiYIgj"
   },
   "source": [
    "* pod5 is a new format by Oxford Nanopore team, that is suppose to be more compressed and therefore computationnaly efficient for Dorado basecalling."
   ]
  },
  {
   "cell_type": "markdown",
   "metadata": {
    "id": "-c5fflL5YTpK"
   },
   "source": [
    ">***Installation of pod5***"
   ]
  },
  {
   "cell_type": "code",
   "execution_count": null,
   "metadata": {
    "id": "cXIWk3_kYZmZ"
   },
   "outputs": [],
   "source": [
    "$ sudo apt install python3-pip      ## Installation pip\n",
    "$ pip install pod5                  ## Installation pod5\n",
    "$ sudo find / -type f -name pod5    ## Find location pod5"
   ]
  },
  {
   "cell_type": "markdown",
   "metadata": {
    "id": "i2rCsV-pYmgi"
   },
   "source": [
    ">***Convertion of a single fast5 containing folder***"
   ]
  },
  {
   "cell_type": "code",
   "execution_count": null,
   "metadata": {
    "id": "82LZPW08YnTS"
   },
   "outputs": [],
   "source": [
    "$ pod5 convert fast5 *.fast5 --output . --one-to-one . ## Convert all the fast5 to pod5\n",
    "                                                       ## while keeping the original fast5"
   ]
  },
  {
   "cell_type": "markdown",
   "metadata": {
    "id": "mh4gd6noZELi"
   },
   "source": [
    ">***Installation Dorado 0.5.3***"
   ]
  },
  {
   "cell_type": "code",
   "execution_count": null,
   "metadata": {
    "id": "9C0szq20ZE6-"
   },
   "outputs": [],
   "source": [
    "$ wget https://cdn.oxfordnanoportal.com/software/analysis/dorado-0.5.3-linux-x64.tar.gz   ## Install Dorado v0.5.3\n",
    "$ tar -xf dorado-0.5.3-linux-x64.tar.gz  ## untar"
   ]
  },
  {
   "cell_type": "markdown",
   "metadata": {
    "id": "cpLQ3M2bZYxO"
   },
   "source": [
    ">***Our Dorado 0.5.3 model***"
   ]
  },
  {
   "cell_type": "code",
   "execution_count": null,
   "metadata": {
    "id": "BYOEH3xLZbyL"
   },
   "outputs": [],
   "source": [
    "📚 Basecalling : dna_r9.4.1_e8_sup@v3.3\n",
    "\n",
    "📚 Modified Basecalling : dna_r9.4.1_e8_sup@v3.3  (specify --modified-bases)"
   ]
  },
  {
   "cell_type": "markdown",
   "metadata": {
    "id": "5oRRsX4hZciA"
   },
   "source": [
    ">***Downloading the model***"
   ]
  },
  {
   "cell_type": "code",
   "execution_count": null,
   "metadata": {
    "id": "EOwsDF0UZfVT"
   },
   "outputs": [],
   "source": [
    "$ dorado download --model dna_r9.4.1_e8_sup@v3.3 ## for our specific model\n",
    "$ dorado download --all ## for all model"
   ]
  },
  {
   "cell_type": "markdown",
   "metadata": {
    "id": "kASOVtVqZjEQ"
   },
   "source": [
    ">***Running Dorado 0.5.3 basecalling***"
   ]
  },
  {
   "cell_type": "code",
   "execution_count": null,
   "metadata": {
    "id": "Rh53EH-saB7-"
   },
   "outputs": [],
   "source": [
    "for i in ./Gd*; do\n",
    "    /home/data/dorado-0.5.3-linux-x64/bin/dorado basecaller /home/data/dorado-0.5.3-linux-x64/bin/dna_r9.4.1_e8_sup@v3.3 \"$i\" -b 320 > \"$(basename \"$i\")_Dorado_basecalling.bam\"\n",
    "done"
   ]
  },
  {
   "cell_type": "markdown",
   "metadata": {
    "id": "U22RsZT-eEUA"
   },
   "source": [
    "Note: If you obtain this error while running Dorado :\n",
    "CUDA out of memory. Tried to allocate ... GiB\n",
    "\n",
    "Please reduce the --batchsize (-b) to a smaller value"
   ]
  },
  {
   "cell_type": "markdown",
   "metadata": {
    "id": "CH8GUkuMbEvA"
   },
   "source": [
    ">***Running Dorado 0.5.3 modified basecalling***"
   ]
  },
  {
   "cell_type": "code",
   "execution_count": null,
   "metadata": {
    "id": "7_2K2rBDbIgz"
   },
   "outputs": [],
   "source": [
    "for i in ./Gd*; do\n",
    "    /home/data/dorado-0.5.3-linux-x64/bin/dorado basecaller /home/data/dorado-0.5.3-linux-x64/bin/dna_r9.4.1_e8_sup@v3.3 \"$i\" --modified-bases-models /home/data/dorado-0.5.3-linux-x64/bin/dna_r9.4.1_e8_sup@v3.3_5mCG_5hmCG@v0 --recursive -b 320 > \"$(basename \"$i\")_Dorado_modbasecalling.bam\"\n",
    "done"
   ]
  }
 ],
 "metadata": {
  "colab": {
   "authorship_tag": "ABX9TyOGjRBX0vvmez2BRHoVB3PV",
   "provenance": []
  },
  "kernelspec": {
   "display_name": "Python 3 (ipykernel)",
   "language": "python",
   "name": "python3"
  },
  "language_info": {
   "codemirror_mode": {
    "name": "ipython",
    "version": 3
   },
   "file_extension": ".py",
   "mimetype": "text/x-python",
   "name": "python",
   "nbconvert_exporter": "python",
   "pygments_lexer": "ipython3",
   "version": "3.10.12"
  }
 },
 "nbformat": 4,
 "nbformat_minor": 4
}
